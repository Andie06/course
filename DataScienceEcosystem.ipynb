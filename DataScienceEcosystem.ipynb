{
 "cells": [
  {
   "cell_type": "markdown",
   "id": "85bf273d-3432-4457-8836-d1186eea1674",
   "metadata": {},
   "source": [
    "# Data Science Tools and Ecosystem"
   ]
  },
  {
   "cell_type": "markdown",
   "id": "31383e01-fdf1-46c0-9dbf-1e19677959b4",
   "metadata": {},
   "source": [
    "#### In this notebook, Data Science Tools and Ecosystem are summarized."
   ]
  },
  {
   "cell_type": "markdown",
   "id": "48da9d2d-5a6f-4c6e-a77e-20d0b35e2ddd",
   "metadata": {},
   "source": [
    "Some of the popular languages that Data Scientists use are:\n",
    "\n",
    "1. Python  \n",
    "2. R  \n",
    "3. SQL  \n",
    "4. Julia  \n",
    "5. Scala"
   ]
  },
  {
   "cell_type": "markdown",
   "id": "d663e362-6027-4615-bd0b-b085b25407c6",
   "metadata": {},
   "source": [
    "Some of the commonly used libraries used by Data Scientists include:\n",
    "\n",
    "1. **NumPy** – for numerical computations and handling arrays  \n",
    "2. **Pandas** – for data manipulation and analysis  \n",
    "3. **Matplotlib** – for data visualization  \n",
    "4. **Scikit-learn** – for machine learning algorithms  \n",
    "5. **TensorFlow** – for deep learning and neural networks\n"
   ]
  },
  {
   "cell_type": "markdown",
   "id": "f35de0f3-47b2-455c-903b-2c72b25937bb",
   "metadata": {},
   "source": [
    "| Data Science Tools         |\n",
    "|----------------------------|\n",
    "| Jupyter Notebook           |\n",
    "| RStudio                    |\n",
    "| VS Code                    |\n"
   ]
  },
  {
   "cell_type": "markdown",
   "id": "0af4b531-04db-424e-904f-4580c365402e",
   "metadata": {},
   "source": [
    "### Below are a few examples of evaluating arithmetic expressions in Python.\n"
   ]
  },
  {
   "cell_type": "code",
   "execution_count": 3,
   "id": "f7efed73-859e-46ff-bbf7-a92f99cb99aa",
   "metadata": {},
   "outputs": [
    {
     "data": {
      "text/plain": [
       "17"
      ]
     },
     "execution_count": 3,
     "metadata": {},
     "output_type": "execute_result"
    }
   ],
   "source": [
    "# This is a simple arithmetic expression to multiply then add integers\n",
    "(3*4)+5"
   ]
  },
  {
   "cell_type": "code",
   "execution_count": 4,
   "id": "22a02df9-14f2-4d74-b1cd-d1b09bd81821",
   "metadata": {},
   "outputs": [
    {
     "data": {
      "text/plain": [
       "3.3333333333333335"
      ]
     },
     "execution_count": 4,
     "metadata": {},
     "output_type": "execute_result"
    }
   ],
   "source": [
    "# This will convert 200 minutes to hours by dividing by 60\n",
    "200 / 60"
   ]
  },
  {
   "cell_type": "markdown",
   "id": "91d3488e-ba82-4a23-bae7-7e2d036ac0cb",
   "metadata": {},
   "source": [
    "**Objectives:**\n",
    "\n",
    "- List popular languages for Data Science  \n",
    "- Identify commonly used libraries and tools in Data Science  \n",
    "- Demonstrate arithmetic operations in Python  \n",
    "- Convert values using Python code  \n",
    "- Create and format Markdown cells in a Jupyter Notebook\n"
   ]
  },
  {
   "cell_type": "markdown",
   "id": "61fb14f7-0009-47b2-a15e-843fe29655fa",
   "metadata": {},
   "source": [
    "## Author\n",
    "\n",
    "Andie Ektha Pinto\n"
   ]
  },
  {
   "cell_type": "code",
   "execution_count": null,
   "id": "2aa64962-793f-4b0e-994d-3d6cf1edffa8",
   "metadata": {},
   "outputs": [],
   "source": []
  }
 ],
 "metadata": {
  "kernelspec": {
   "display_name": "Python 3 (ipykernel)",
   "language": "python",
   "name": "python3"
  },
  "language_info": {
   "codemirror_mode": {
    "name": "ipython",
    "version": 3
   },
   "file_extension": ".py",
   "mimetype": "text/x-python",
   "name": "python",
   "nbconvert_exporter": "python",
   "pygments_lexer": "ipython3",
   "version": "3.12.8"
  }
 },
 "nbformat": 4,
 "nbformat_minor": 5
}
